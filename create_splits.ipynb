{
 "cells": [
  {
   "cell_type": "code",
   "execution_count": 1,
   "metadata": {},
   "outputs": [],
   "source": [
    "import os\n",
    "import json\n",
    "import glob"
   ]
  },
  {
   "cell_type": "code",
   "execution_count": 16,
   "metadata": {},
   "outputs": [
    {
     "data": {
      "text/plain": [
       "66723"
      ]
     },
     "execution_count": 16,
     "metadata": {},
     "output_type": "execute_result"
    }
   ],
   "source": [
    "sentences = []\n",
    "for fn in glob.glob(\"data/ler.conll\"):\n",
    "    with open(fn, \"r\", encoding=\"utf-8\") as f:\n",
    "        sentence = []\n",
    "        for line in f:\n",
    "            if len(line) > 1:\n",
    "                token, tag = line.strip().split(\" \")\n",
    "                sentence.append((token, tag))\n",
    "            else:\n",
    "                sentences.append(sentence)\n",
    "                sentence = []\n",
    "            \n",
    "len(sentences)"
   ]
  },
  {
   "cell_type": "code",
   "execution_count": 17,
   "metadata": {},
   "outputs": [
    {
     "data": {
      "text/plain": [
       "[('Prozesskostenhilfe', 'O'),\n",
       " ('-', 'O'),\n",
       " ('Entschädigung', 'O'),\n",
       " ('für', 'O'),\n",
       " ('überlange', 'O'),\n",
       " ('Verfahrensdauer', 'O'),\n",
       " ('-', 'O'),\n",
       " ('Revisionsverfahren', 'O')]"
      ]
     },
     "execution_count": 17,
     "metadata": {},
     "output_type": "execute_result"
    }
   ],
   "source": [
    "sentences[0]"
   ]
  },
  {
   "cell_type": "code",
   "execution_count": 22,
   "metadata": {},
   "outputs": [],
   "source": [
    "split_1 = int(0.8 * len(sentences))\n",
    "split_2 = int(0.9 * len(sentences))\n",
    "\n",
    "train = sentences[0:split_1]\n",
    "val = sentences[split_1:split_2]\n",
    "test = sentences[split_2:]"
   ]
  },
  {
   "cell_type": "code",
   "execution_count": 23,
   "metadata": {},
   "outputs": [
    {
     "data": {
      "text/plain": [
       "66723"
      ]
     },
     "execution_count": 23,
     "metadata": {},
     "output_type": "execute_result"
    }
   ],
   "source": [
    "len(train) + len(val) + len(test)"
   ]
  },
  {
   "cell_type": "code",
   "execution_count": 24,
   "metadata": {},
   "outputs": [],
   "source": [
    "def write_file(sents, file):\n",
    "    with open(file, \"w\", encoding=\"utf-8\") as f_out:\n",
    "        for sent in sents:\n",
    "            s = dict()\n",
    "            s[\"tokens\"] = [token for token,_ in sent]\n",
    "            s[\"tags\"] = [tag for _,tag in sent]\n",
    "            f_out.write(json.dumps(s) + \"\\n\")"
   ]
  },
  {
   "cell_type": "code",
   "execution_count": 29,
   "metadata": {},
   "outputs": [],
   "source": [
    "write_file(train, \"data/train.jsonl\")\n",
    "write_file(val, \"data/validation.jsonl\")\n",
    "write_file(test, \"data/test.jsonl\")"
   ]
  },
  {
   "cell_type": "code",
   "execution_count": 28,
   "metadata": {},
   "outputs": [],
   "source": [
    "write_file(train[0:int(len(train)*0.1)], \"data/train_small.jsonl\")\n",
    "write_file(val[0:int(len(val)*0.1)], \"data/validation_small.jsonl\")\n",
    "write_file(test[0:int(len(test)*0.1)], \"data/test_small.jsonl\")"
   ]
  },
  {
   "cell_type": "code",
   "execution_count": 26,
   "metadata": {},
   "outputs": [
    {
     "data": {
      "text/plain": [
       "53632"
      ]
     },
     "execution_count": 26,
     "metadata": {},
     "output_type": "execute_result"
    }
   ],
   "source": [
    "begin_tags = []\n",
    "for sentence in sentences:\n",
    "    for _, tag in sentence:\n",
    "        if tag.startswith(\"B-\"):\n",
    "            begin_tags.append(tag)\n",
    "len(begin_tags)"
   ]
  },
  {
   "cell_type": "code",
   "execution_count": null,
   "metadata": {},
   "outputs": [],
   "source": []
  },
  {
   "cell_type": "code",
   "execution_count": null,
   "metadata": {},
   "outputs": [],
   "source": []
  }
 ],
 "metadata": {
  "kernelspec": {
   "display_name": "Python 3",
   "language": "python",
   "name": "python3"
  },
  "language_info": {
   "codemirror_mode": {
    "name": "ipython",
    "version": 3
   },
   "file_extension": ".py",
   "mimetype": "text/x-python",
   "name": "python",
   "nbconvert_exporter": "python",
   "pygments_lexer": "ipython3",
   "version": "3.7.3"
  }
 },
 "nbformat": 4,
 "nbformat_minor": 2
}
